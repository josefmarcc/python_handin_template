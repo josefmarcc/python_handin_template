{
 "cells": [
  {
   "cell_type": "markdown",
   "metadata": {},
   "source": [
    "# Week 2 handin"
   ]
  },
  {
   "cell_type": "markdown",
   "metadata": {},
   "source": [
    "## Assignment\n",
    "https://github.com/Hartmannsolution/docker_notebooks/blob/master/notebooks/02-Exercise.ipynb"
   ]
  },
  {
   "cell_type": "markdown",
   "metadata": {},
   "source": [
    "## Status\n",
    "Here is a status on the handin. How far you got. What is implemented and what is not"
   ]
  },
  {
   "cell_type": "markdown",
   "metadata": {},
   "source": [
    "## Solution part 1"
   ]
  },
  {
   "cell_type": "code",
   "execution_count": 29,
   "metadata": {},
   "outputs": [
    {
     "name": "stdout",
     "output_type": "stream",
     "text": [
      "Add\n",
      "this\n",
      "to\n",
      "file\n"
     ]
    }
   ],
   "source": [
    "# 1 Create a python file with 3 functions:\n",
    "# A: print content of a csv file to the console\n",
    "\n",
    "def print_file_content(file):\n",
    "    file_object=  open(file) \n",
    "    contents = file_object.read()\n",
    "    print(contents)\n",
    "    \n",
    "print_file_content('testfilecsv.csv')\n"
   ]
  },
  {
   "cell_type": "code",
   "execution_count": 30,
   "metadata": {},
   "outputs": [
    {
     "name": "stdout",
     "output_type": "stream",
     "text": [
      "Add\n",
      "this\n",
      "to\n",
      "file\n"
     ]
    }
   ],
   "source": [
    "#B: take a list of tuple and write each element to a new line in file\n",
    "new_tuplelst = (\"Add\", \"this\", \"to\", \"file\")\n",
    "\n",
    "def write_list_to_file(output_file, lst):\n",
    "    file_object = open(output_file, 'w')\n",
    "    file_object.write('\\n'.join(lst))\n",
    "\n",
    "write_list_to_file('testfilecsv.csv', new_tuplelst)\n",
    "\n",
    "print_file_content('testfilecsv.csv')\n",
    "\n"
   ]
  },
  {
   "cell_type": "code",
   "execution_count": 31,
   "metadata": {},
   "outputs": [
    {
     "name": "stdout",
     "output_type": "stream",
     "text": [
      "testing\n",
      "The\n",
      "New\n",
      "Function\n"
     ]
    }
   ],
   "source": [
    "#B a: rewrite the function so that it gets an arbitrary number of strings instead of a list\n",
    "\n",
    "def write_list_to_file_v2(output_file, *text_to_add):\n",
    "    file_object = open(output_file, 'w')\n",
    "    file_object.write('\\n'.join(text_to_add))\n",
    "\n",
    "write_list_to_file_v2('testfilecsv.csv', \"testing\", \"The\", \"New\", \"Function\")\n",
    "\n",
    "print_file_content('testfilecsv.csv')\n"
   ]
  },
  {
   "cell_type": "code",
   "execution_count": 48,
   "metadata": {},
   "outputs": [
    {
     "name": "stdout",
     "output_type": "stream",
     "text": [
      "['First row;test\\n', 'Second row;data\\n', 'Third row;\\n', 'Fourth row;\\n']\n"
     ]
    }
   ],
   "source": [
    "#C: take a csv file and read each row into a list\n",
    "\n",
    "def read_csv(input_file):\n",
    "    output_list = []\n",
    "    file_object = open(input_file, 'r')\n",
    "    for row in file_object:\n",
    "        output_list.append(row)\n",
    "    print(output_list)\n",
    "\n",
    "read_csv('testPython.csv')\n"
   ]
  },
  {
   "cell_type": "code",
   "execution_count": null,
   "metadata": {},
   "outputs": [],
   "source": [
    "# 2 \n",
    "# A: Add a functionality so that the file can be called from cli with 2 arguments\n",
    "#    path to csv file\n",
    "# B: an argument --file file_name that if given will write the content to file_name or otherwise will print it to the console.\n",
    "\n",
    "# Ligger under my_notebooks 02Excercise.py\n",
    "\n",
    "\n",
    "\n",
    "\n"
   ]
  },
  {
   "cell_type": "markdown",
   "metadata": {},
   "source": [
    "## Solution part 2"
   ]
  },
  {
   "cell_type": "code",
   "execution_count": null,
   "metadata": {},
   "outputs": [],
   "source": []
  },
  {
   "cell_type": "code",
   "execution_count": null,
   "metadata": {},
   "outputs": [],
   "source": []
  },
  {
   "cell_type": "code",
   "execution_count": null,
   "metadata": {},
   "outputs": [],
   "source": []
  }
 ],
 "metadata": {
  "kernelspec": {
   "display_name": "Python 3",
   "language": "python",
   "name": "python3"
  },
  "language_info": {
   "codemirror_mode": {
    "name": "ipython",
    "version": 3
   },
   "file_extension": ".py",
   "mimetype": "text/x-python",
   "name": "python",
   "nbconvert_exporter": "python",
   "pygments_lexer": "ipython3",
   "version": "3.7.6"
  }
 },
 "nbformat": 4,
 "nbformat_minor": 4
}
