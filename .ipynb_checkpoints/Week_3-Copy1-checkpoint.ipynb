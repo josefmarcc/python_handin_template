{
 "cells": [
  {
   "cell_type": "markdown",
   "metadata": {},
   "source": [
    "# Week 3 handin"
   ]
  },
  {
   "cell_type": "markdown",
   "metadata": {},
   "source": [
    "## 01 Assignment\n",
    "https://github.com/Hartmannsolution/docker_notebooks/blob/master/notebooks/03-Exercise.ipynb"
   ]
  },
  {
   "cell_type": "markdown",
   "metadata": {},
   "source": [
    "## 02 Status\n",
    "Completed to exercise 1 8a."
   ]
  },
  {
   "cell_type": "markdown",
   "metadata": {},
   "source": [
    "## 03 Solution part 1"
   ]
  },
  {
   "cell_type": "code",
   "execution_count": 2,
   "metadata": {},
   "outputs": [],
   "source": [
    "# 1 - 6:\n",
    "# Create 3 classes: Student, DataSheet and Course\n",
    "# Create 3 classes: Student, DataSheet and Course\n",
    "# A student has a data_sheet and a data_sheet has multiple courses in particular order\n",
    "# Each course has name, classroom, teacher, ETCS and optional grade if course is taken.\n",
    "# In Student create init() so that a Student can be initiated with name, gender, data_sheet and image_url\n",
    "# In DataSheet create a method to get_grades_as_list()\n",
    "# In student create a method: get_avg_grade()\n",
    "\n",
    "\n",
    "import names\n",
    "import random\n",
    "import csv\n",
    "\n",
    "\n",
    "class Student():\n",
    "    \"\"\" Class used to create a student with name, gender, data_sheet and img_url\"\"\"\n",
    "\n",
    "# format stud_name, course_name, teacher, ects, classroom, grade, img_url\n",
    "\n",
    "    def __init__(self, name, gender, data_sheet, img_url):\n",
    "        self.name = name\n",
    "        self.gender = gender\n",
    "        self.data_sheet = data_sheet\n",
    "        self.img_url = img_url\n",
    "    \n",
    "    def __repr__(self):\n",
    "        return '%r, %r, %r, %r' % (self.name, self.gender, \n",
    "                                     self.data_sheet, self.img_url)\n",
    "\n",
    "\n",
    "    def get_avg_grade(self):\n",
    "        total_sum = sum(self.data_sheet.get_grades_as_list())\n",
    "        total_len = len(self.data_sheet.get_grades_as_list())\n",
    "        return total_sum / total_len\n",
    "\n",
    "    def __iter__(self):\n",
    "        return iter([self.name, self.gender, self.data_sheet , self.img_url])\n",
    "\n",
    "class Course():\n",
    "    \"\"\" Create a course with a name, classroom, teacher, ETCS, Optional grade \"\"\"\n",
    "\n",
    "    def __init__(self, name, classroom, teacher, ETCS, grade=0):\n",
    "        self.name = name\n",
    "        self.classroom = classroom\n",
    "        self.teacher = teacher\n",
    "        self.ETCS = ETCS\n",
    "        self.grade = grade\n",
    "\n",
    "    def __repr__(self):\n",
    "        return '(%r, %r, %r, %r, %r)' % (self.name, self.classroom, self.teacher, self.ETCS, self.grade)\n",
    "\n",
    "class DataSheet():\n",
    "    \"\"\" Create a DataSheet that takes multiple courses \"\"\"\n",
    "\n",
    "    def __init__(self, *courses):\n",
    "        self.courses = courses\n",
    "\n",
    "    def __repr__(self):\n",
    "        return '(%r)' % (self.courses) \n",
    "\n",
    "    def get_grades_as_list(self):\n",
    "        grade_list = []\n",
    "        for element in self.courses:\n",
    "            grade_list.append(element.grade)\n",
    "        return grade_list\n",
    "\n",
    "\n"
   ]
  },
  {
   "cell_type": "code",
   "execution_count": 3,
   "metadata": {},
   "outputs": [
    {
     "name": "stdout",
     "output_type": "stream",
     "text": [
      "'Carlos Carollo', 'male', ('DataScience', 28, 'Kim', 15, 12), 'img'\n"
     ]
    }
   ],
   "source": [
    "# 7 A:\n",
    "# Create a function that can generate n number of students with random: name, gender, courses (from a fixed list of course names), grades, img_url\n",
    "# Let the function write the result to a csv file with format stud_name, course_name, teacher, ects, classroom, grade, img_url\n",
    "\n",
    "\n",
    "## Student generator\n",
    "def student_generator(n):\n",
    "    genders = [\"male\", \"female\"]\n",
    "    course_name_list = [\"Python\", \"JavaScript\",\n",
    "                        \"Functional Programming\", \"Math\", \"DataScience\", \"C++\"]\n",
    "    teachers = [\"Lars\", \"Thomas\", \"Kim\", \"Jon\"]\n",
    "    grade_list = [0, 2, 4, 7, 10, 12]\n",
    "    student_list = []\n",
    "\n",
    "    for n in range(n):\n",
    "        course = Course(random.choice(course_name_list), random.choice(\n",
    "            range(0, 30)), random.choice(teachers), 15, random.choice(grade_list))\n",
    "        for n in range(n):\n",
    "            student = Student(names.get_full_name(),\n",
    "                              random.choice(genders), course, \"img\")\n",
    "            student_list.append(student)\n",
    "\n",
    "    return student_list\n",
    "\n",
    "\n",
    "## Write the result to a CSV file\n",
    "def write_list_to_file(output_file, lst):\n",
    "\n",
    "    csv.register_dialect('myDialect', delimiter=',')\n",
    "\n",
    "    with open(output_file, 'w') as output_file:\n",
    "        output_writer = csv.writer(output_file, dialect = \"myDialect\")\n",
    "        print(lst[0])\n",
    "        fields = [\"Name\", \"Gender\", \"Classes\", \"Image url\", \"Grades\"]\n",
    "        output_writer.writerow(fields)\n",
    "        for student in lst:\n",
    "            output_writer.writerow(list(student))\n",
    "\n",
    "\n",
    "student_gen_list = student_generator(5)\n",
    "\n",
    "write_list_to_file(\"student_list.csv\", student_gen_list)\n",
    "\n",
    "\n"
   ]
  },
  {
   "cell_type": "code",
   "execution_count": 4,
   "metadata": {},
   "outputs": [
    {
     "name": "stdout",
     "output_type": "stream",
     "text": [
      "'Carlos Carollo', 'male', (\"('DataScience', 28, 'Kim', 15, 12)\"), 'img'\n",
      "'David Ward', 'male', (\"('DataScience', 27, 'Jon', 15, 0)\"), 'img'\n",
      "'Catherine Mcclurkin', 'male', (\"('DataScience', 27, 'Jon', 15, 0)\"), 'img'\n",
      "'Edna Gates', 'male', (\"('Math', 4, 'Jon', 15, 4)\"), 'img'\n",
      "'Tara Rolon', 'female', (\"('Math', 4, 'Jon', 15, 4)\"), 'img'\n",
      "'Bill Vasquez', 'female', (\"('Math', 4, 'Jon', 15, 4)\"), 'img'\n",
      "'Jeremy Garrett', 'female', (\"('Python', 27, 'Thomas', 15, 0)\"), 'img'\n",
      "'Douglas Farrar', 'male', (\"('Python', 27, 'Thomas', 15, 0)\"), 'img'\n",
      "'Sherri Stadler', 'female', (\"('Python', 27, 'Thomas', 15, 0)\"), 'img'\n",
      "'Jeannette Roberts', 'female', (\"('Python', 27, 'Thomas', 15, 0)\"), 'img'\n"
     ]
    }
   ],
   "source": [
    "# 8 A\n",
    "# Read student data into a list of Students from a csv file:\n",
    "# loop through the list and print each student with name, img_url and avg_grade.\n",
    "\n",
    "\n",
    "## Read student data into a list of students from a CSV file as a list\n",
    "\n",
    "def read_csv_filecontent(file):\n",
    "    list_of_students = []\n",
    "    with open(file) as csv_file:\n",
    "        csv_reader = csv.reader(csv_file)\n",
    "        header = next(csv_reader)\n",
    "        for lines in csv_reader:\n",
    "            name = lines[0]\n",
    "            gender = lines[1]\n",
    "            data_sheet = lines[2]\n",
    "            img_url = lines[3]\n",
    "            s = Student(name, gender, DataSheet(data_sheet), img_url)\n",
    "\n",
    "            list_of_students.append(s)\n",
    "\n",
    "    return list_of_students\n",
    "\n",
    "st_lst = read_csv_filecontent(\"./student_list.csv\")\n",
    "\n",
    "for Student in st_lst:\n",
    "    print(Student)\n",
    "    \n",
    "## I can't get the get_avg_grade with a Student obj from a CSV file. Student.get_avg_grade().\n"
   ]
  },
  {
   "cell_type": "code",
   "execution_count": null,
   "metadata": {},
   "outputs": [],
   "source": []
  },
  {
   "cell_type": "code",
   "execution_count": null,
   "metadata": {},
   "outputs": [],
   "source": [
    "# 1.3"
   ]
  },
  {
   "cell_type": "markdown",
   "metadata": {},
   "source": [
    "## 04 Solution part 2"
   ]
  },
  {
   "cell_type": "code",
   "execution_count": null,
   "metadata": {},
   "outputs": [],
   "source": [
    "# 2.1"
   ]
  }
 ],
 "metadata": {
  "kernelspec": {
   "display_name": "Python 3",
   "language": "python",
   "name": "python3"
  },
  "language_info": {
   "codemirror_mode": {
    "name": "ipython",
    "version": 3
   },
   "file_extension": ".py",
   "mimetype": "text/x-python",
   "name": "python",
   "nbconvert_exporter": "python",
   "pygments_lexer": "ipython3",
   "version": "3.7.6"
  }
 },
 "nbformat": 4,
 "nbformat_minor": 4
}
