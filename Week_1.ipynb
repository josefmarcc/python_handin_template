{
 "cells": [
  {
   "cell_type": "markdown",
   "metadata": {},
   "source": [
    "# Week 1 handin"
   ]
  },
  {
   "cell_type": "markdown",
   "metadata": {},
   "source": [
    "## 01 Assignment\n",
    "https://github.com/Hartmannsolution/docker_notebooks/blob/master/notebooks/01-Exercise.ipynb"
   ]
  },
  {
   "cell_type": "markdown",
   "metadata": {},
   "source": [
    "## 02 Status\n",
    "Part 1 and 2 done. Part 3 not done completly "
   ]
  },
  {
   "cell_type": "markdown",
   "metadata": {},
   "source": [
    "## 03 Solution part 1"
   ]
  },
  {
   "cell_type": "code",
   "execution_count": 46,
   "metadata": {},
   "outputs": [
    {
     "data": {
      "text/plain": [
       "['Hans', 'Hanne']"
      ]
     },
     "execution_count": 46,
     "metadata": {},
     "output_type": "execute_result"
    }
   ],
   "source": [
    "# A\n",
    "# Iterate a list of names to return a list of the names starting with H\n",
    "\n",
    "names = list([\"Hans\",\"Jørgen\",\"Lars\",\"Per\",\"Hanne\", \"Alex\"])\n",
    "names\n",
    "new_names = [x for x in names if x.startswith(\"H\")] \n",
    "new_names\n"
   ]
  },
  {
   "cell_type": "code",
   "execution_count": 52,
   "metadata": {},
   "outputs": [
    {
     "data": {
      "text/plain": [
       "array([     1,      8,     27,     64,    125,    216,    343,    512,\n",
       "          729,   1000,   1331,   1728,   2197,   2744,   3375,   4096,\n",
       "         4913,   5832,   6859,   8000,   9261,  10648,  12167,  13824,\n",
       "        15625,  17576,  19683,  21952,  24389,  27000,  29791,  32768,\n",
       "        35937,  39304,  42875,  46656,  50653,  54872,  59319,  64000,\n",
       "        68921,  74088,  79507,  85184,  91125,  97336, 103823, 110592,\n",
       "       117649, 125000, 132651, 140608, 148877, 157464, 166375, 175616,\n",
       "       185193, 195112, 205379, 216000, 226981, 238328, 250047, 262144,\n",
       "       274625, 287496, 300763, 314432, 328509, 343000, 357911, 373248,\n",
       "       389017, 405224, 421875, 438976, 456533, 474552, 493039, 512000,\n",
       "       531441, 551368, 571787, 592704, 614125, 636056, 658503, 681472,\n",
       "       704969, 729000, 753571, 778688, 804357, 830584, 857375, 884736,\n",
       "       912673, 941192, 970299])"
      ]
     },
     "execution_count": 52,
     "metadata": {},
     "output_type": "execute_result"
    }
   ],
   "source": [
    "# B\n",
    "# In one line create a list of the numbers 1-100 to the power of 3\n",
    "import numpy as np\n",
    "np.power(list(range(1,100)),3)\n",
    "\n"
   ]
  },
  {
   "cell_type": "code",
   "execution_count": 51,
   "metadata": {},
   "outputs": [
    {
     "data": {
      "text/plain": [
       "((5, 'Josef'), (4, 'Thor'), (8, 'Frederik'))"
      ]
     },
     "execution_count": 51,
     "metadata": {},
     "output_type": "execute_result"
    }
   ],
   "source": [
    "# C\n",
    "# Iterate a list of names to create a list of tuples,\n",
    "# where the tuples first value is the length of the name and the second is the name\n",
    "\n",
    "names = list([\"Josef\", \"Thor\", \"Frederik\"])\n",
    "names_tuple = tuple([(len(name), name) for name in names])\n",
    "names_tuple\n"
   ]
  },
  {
   "cell_type": "code",
   "execution_count": 49,
   "metadata": {},
   "outputs": [
    {
     "data": {
      "text/plain": [
       "[23, 12]"
      ]
     },
     "execution_count": 49,
     "metadata": {},
     "output_type": "execute_result"
    }
   ],
   "source": [
    "# D\n",
    "# Iterate over each character in a string and get only those that are nummeric\n",
    "\n",
    "string_example = \"23 katte gik 12 ture\"\n",
    "[int(s) for s in string_example.split() if s.isdigit()]\n",
    "\n",
    "\n",
    "\n"
   ]
  },
  {
   "cell_type": "code",
   "execution_count": 50,
   "metadata": {
    "scrolled": true
   },
   "outputs": [
    {
     "data": {
      "text/plain": [
       "{(1, 1),\n",
       " (1, 2),\n",
       " (1, 3),\n",
       " (1, 4),\n",
       " (1, 5),\n",
       " (1, 6),\n",
       " (2, 1),\n",
       " (2, 2),\n",
       " (2, 3),\n",
       " (2, 4),\n",
       " (2, 5),\n",
       " (2, 6),\n",
       " (3, 1),\n",
       " (3, 2),\n",
       " (3, 3),\n",
       " (3, 4),\n",
       " (3, 5),\n",
       " (3, 6),\n",
       " (4, 1),\n",
       " (4, 2),\n",
       " (4, 3),\n",
       " (4, 4),\n",
       " (4, 5),\n",
       " (4, 6),\n",
       " (5, 1),\n",
       " (5, 2),\n",
       " (5, 3),\n",
       " (5, 4),\n",
       " (5, 5),\n",
       " (5, 6),\n",
       " (6, 1),\n",
       " (6, 2),\n",
       " (6, 3),\n",
       " (6, 4),\n",
       " (6, 5),\n",
       " (6, 6)}"
      ]
     },
     "execution_count": 50,
     "metadata": {},
     "output_type": "execute_result"
    }
   ],
   "source": [
    "# E\n",
    "# Using only a list comprehension wrapped in set() \n",
    "# get all possible combination from throwing 2 dice \n",
    "# (hint use 2 for loops in a single list comprehension)\n",
    "\n",
    "roll_combinations = set([(d1, d2) for d1 in range(1, 7) for d2 in range(1, 7)])\n",
    "roll_combinations\n",
    "\n",
    "\n",
    "\n"
   ]
  },
  {
   "cell_type": "markdown",
   "metadata": {},
   "source": [
    "## 04 Solution part 2"
   ]
  },
  {
   "cell_type": "code",
   "execution_count": 55,
   "metadata": {},
   "outputs": [
    {
     "data": {
      "text/plain": [
       "{5: 'Josef', 4: 'Thor', 8: 'Frederik'}"
      ]
     },
     "execution_count": 55,
     "metadata": {},
     "output_type": "execute_result"
    }
   ],
   "source": [
    "# A \n",
    "# Iterate a list of names and create a dictionary where key is the name and value is the length of the name\n",
    "\n",
    "\n",
    "names = list([\"Josef\", \"Thor\", \"Frederik\"])\n",
    "names_dict = dict([(len(name), name) for name in names])\n",
    "names_dict\n",
    "\n",
    "\n"
   ]
  },
  {
   "cell_type": "code",
   "execution_count": 64,
   "metadata": {},
   "outputs": [
    {
     "data": {
      "text/plain": [
       "{25: 5.0, 20: 4.47213595499958, 666: 25.80697580112788}"
      ]
     },
     "execution_count": 64,
     "metadata": {},
     "output_type": "execute_result"
    }
   ],
   "source": [
    "# B\n",
    "# Iterate a list of numbers and create a dictionary with {key:value} being {number:squareroot_of_number}\n",
    "import math\n",
    "some_numbers = list([25,20,666])\n",
    "numbers_dict = dict([(numbers, math.sqrt(numbers)) for numbers in some_numbers])\n",
    "numbers_dict\n",
    "\n",
    "\n",
    "\n"
   ]
  },
  {
   "cell_type": "markdown",
   "metadata": {},
   "source": [
    "# 04 Solution part 3 (extra assignement) "
   ]
  },
  {
   "cell_type": "code",
   "execution_count": null,
   "metadata": {},
   "outputs": [],
   "source": [
    "# TODO \n",
    "# Progammatically using loops create a small program to produce a dictionary with \n",
    "# all the 2 dice throw combinations as keys \n",
    "# and their likelyhood in percent as values"
   ]
  },
  {
   "cell_type": "code",
   "execution_count": 71,
   "metadata": {},
   "outputs": [
    {
     "data": {
      "text/plain": [
       "{1: 6, 2: 6, 3: 6, 4: 6, 5: 6, 6: 6}"
      ]
     },
     "execution_count": 71,
     "metadata": {},
     "output_type": "execute_result"
    }
   ],
   "source": [
    "roll_combinations = tuple([(d1, d2) for d1 in range(1, 7) for d2 in range(1, 7)])\n",
    "roll_comboWithPercentage = dict([(r1) for r1 in roll_combinations])\n",
    "roll_comboWithPercentage"
   ]
  },
  {
   "cell_type": "code",
   "execution_count": null,
   "metadata": {},
   "outputs": [],
   "source": []
  }
 ],
 "metadata": {
  "kernelspec": {
   "display_name": "Python 3",
   "language": "python",
   "name": "python3"
  },
  "language_info": {
   "codemirror_mode": {
    "name": "ipython",
    "version": 3
   },
   "file_extension": ".py",
   "mimetype": "text/x-python",
   "name": "python",
   "nbconvert_exporter": "python",
   "pygments_lexer": "ipython3",
   "version": "3.7.6"
  }
 },
 "nbformat": 4,
 "nbformat_minor": 4
}
