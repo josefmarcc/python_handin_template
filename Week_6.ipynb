{
 "cells": [
  {
   "cell_type": "markdown",
   "metadata": {},
   "source": [
    "# Week 6 handin"
   ]
  },
  {
   "cell_type": "markdown",
   "metadata": {},
   "source": [
    "## 01 Assignment\n",
    "https://github.com/Hartmannsolution/docker_notebooks/blob/master/notebooks/06-Exercise.ipynb"
   ]
  },
  {
   "cell_type": "markdown",
   "metadata": {},
   "source": [
    "## 02 Status\n",
    "Hele part 1 ligger under my_modules og hedder bookscanner."
   ]
  },
  {
   "cell_type": "markdown",
   "metadata": {},
   "source": [
    "## 03 Solution part 1"
   ]
  },
  {
   "cell_type": "code",
   "execution_count": 27,
   "metadata": {},
   "outputs": [
    {
     "name": "stdout",
     "output_type": "stream",
     "text": [
      "(1.82204, '0.txt')\n",
      "4.txt\n",
      "<generator object BookScanner.urllist_generator at 0x7f0bd98d5c50>\n"
     ]
    }
   ],
   "source": [
    "from modules import BookScanner as bs\n",
    "\n",
    "\n",
    "\n",
    "urlList = [\n",
    "    \"https://www.gutenberg.org/files/1232/1232-0.txt\", \n",
    "    \"https://www.gutenberg.org/files/1342/1342-0.txt\", \n",
    "    \"https://www.gutenberg.org/files/84/84-0.txt\", \n",
    "    \"https://www.gutenberg.org/files/11/11-0.txt\",\n",
    "    \"https://www.gutenberg.org/files/64812/64812-0.txt\",\n",
    "    \"https://www.gutenberg.org/files/2701/2701-0.txt\",\n",
    "    \"https://www.gutenberg.org/files/1661/1661-0.txt\",\n",
    "    \"https://www.gutenberg.org/files/1952/1952-0.txt\",\n",
    "    \"https://www.gutenberg.org/files/1260/1260-0.txt\",\n",
    "    \"https://www.gutenberg.org/files/64317/64317-0.txt\"\n",
    "]\n",
    "\n",
    "\n",
    "bs = bs.BookScanner(urlList)\n",
    "\n",
    "# Download all the txt from the url list.\n",
    "bs.multi_download()\n",
    "\n",
    "# Avg vowels on text 0.\n",
    "print(bs.avg_vowels(\"0.txt\"))\n",
    "\n",
    "\n",
    "# Get the hardest read = highest lix nr\n",
    "print(bs.hardest_read())\n",
    "\n"
   ]
  }
 ],
 "metadata": {
  "kernelspec": {
   "display_name": "Python 3",
   "language": "python",
   "name": "python3"
  },
  "language_info": {
   "codemirror_mode": {
    "name": "ipython",
    "version": 3
   },
   "file_extension": ".py",
   "mimetype": "text/x-python",
   "name": "python",
   "nbconvert_exporter": "python",
   "pygments_lexer": "ipython3",
   "version": "3.7.6"
  }
 },
 "nbformat": 4,
 "nbformat_minor": 4
}
