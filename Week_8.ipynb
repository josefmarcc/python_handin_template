{
 "cells": [
  {
   "cell_type": "markdown",
   "metadata": {},
   "source": [
    "# Week 8 handin"
   ]
  },
  {
   "cell_type": "markdown",
   "metadata": {},
   "source": [
    "## 01 Assignment\n",
    "https://github.com/dahlfrederik/python-exercises-/blob/main/week8/Exercise%20week8.md"
   ]
  },
  {
   "cell_type": "markdown",
   "metadata": {},
   "source": [
    "## 02 Status\n",
    "Alt er færdigt"
   ]
  },
  {
   "cell_type": "markdown",
   "metadata": {},
   "source": [
    "## 03 Solution part 1"
   ]
  },
  {
   "cell_type": "code",
   "execution_count": 31,
   "metadata": {},
   "outputs": [
    {
     "ename": "NameError",
     "evalue": "name 'names' is not defined",
     "output_type": "error",
     "traceback": [
      "\u001b[0;31m---------------------------------------------------------------------------\u001b[0m",
      "\u001b[0;31mNameError\u001b[0m                                 Traceback (most recent call last)",
      "\u001b[0;32m<ipython-input-31-fa99e71da66a>\u001b[0m in \u001b[0;36m<module>\u001b[0;34m\u001b[0m\n\u001b[1;32m     10\u001b[0m \u001b[0;34m\u001b[0m\u001b[0m\n\u001b[1;32m     11\u001b[0m \u001b[0;34m\u001b[0m\u001b[0m\n\u001b[0;32m---> 12\u001b[0;31m \u001b[0;32mfor\u001b[0m \u001b[0midx\u001b[0m\u001b[0;34m,\u001b[0m \u001b[0mval\u001b[0m \u001b[0;32min\u001b[0m \u001b[0menumerate\u001b[0m\u001b[0;34m(\u001b[0m\u001b[0mnames\u001b[0m\u001b[0;34m)\u001b[0m\u001b[0;34m:\u001b[0m\u001b[0;34m\u001b[0m\u001b[0;34m\u001b[0m\u001b[0m\n\u001b[0m\u001b[1;32m     13\u001b[0m     \u001b[0mlst_models\u001b[0m\u001b[0;34m.\u001b[0m\u001b[0mappend\u001b[0m\u001b[0;34m(\u001b[0m\u001b[0mmodel\u001b[0m\u001b[0;34m[\u001b[0m\u001b[0midx\u001b[0m\u001b[0;34m]\u001b[0m\u001b[0;34m.\u001b[0m\u001b[0mgetText\u001b[0m\u001b[0;34m(\u001b[0m\u001b[0;34m)\u001b[0m\u001b[0;34m)\u001b[0m\u001b[0;34m\u001b[0m\u001b[0;34m\u001b[0m\u001b[0m\n\u001b[1;32m     14\u001b[0m     \u001b[0mlst_prices\u001b[0m\u001b[0;34m.\u001b[0m\u001b[0mappend\u001b[0m\u001b[0;34m(\u001b[0m\u001b[0mprices\u001b[0m\u001b[0;34m[\u001b[0m\u001b[0midx\u001b[0m\u001b[0;34m]\u001b[0m\u001b[0;34m.\u001b[0m\u001b[0mgetText\u001b[0m\u001b[0;34m(\u001b[0m\u001b[0;34m)\u001b[0m\u001b[0;34m)\u001b[0m\u001b[0;34m\u001b[0m\u001b[0;34m\u001b[0m\u001b[0m\n",
      "\u001b[0;31mNameError\u001b[0m: name 'names' is not defined"
     ]
    }
   ],
   "source": [
    "#!flask/bin/python\n",
    "from flask import Flask, jsonify, abort, request\n",
    "import pandas as pd\n",
    "import random\n",
    "from sqlalchemy import create_engine\n",
    "from sqlalchemy import Table, Column, Integer, String, MetaData, ForeignKey\n",
    "\n",
    "\n",
    "\n",
    "app = Flask(__name__)\n",
    "\n",
    "\n",
    "import mysql.connector as mysql\n",
    "cnx = mysql.connect(host = \"db\", user = \"root\", passwd = \"root\", db = \"db\")\n",
    "\n",
    "\n",
    "# Laver DB con og tables\n",
    "con_str = \"mysql+mysqlconnector://root:root@db/db\"\n",
    "engine = create_engine(con_str)\n",
    "metadata = MetaData()\n",
    "users = Table('user_info', metadata,\n",
    "Column('id', Integer, primary_key=True),\n",
    "Column('fname', String(45)),\n",
    "Column('lname', String(45)),\n",
    "Column('year', Integer),)\n",
    "metadata.create_all(engine)\n",
    "\n",
    "# Laver Dataframe og sætter ind  i SQL\n",
    "df = pd.DataFrame({'fname': ['Josef', 'Thor', 'Frederik'],\n",
    "                   'lname': ['Marc', 'Christensen', 'Dahl'],\n",
    "                   'year': [1995, 1996, 1997]})\n",
    "df.to_csv('/home/jovyan/flask/csv_output/csv_output.csv', index=False) \n",
    "\n",
    "df = df.applymap(str)\n",
    "df.to_sql('user_info',con=engine, if_exists='append', index = False)\n",
    "\n",
    "conn = engine.connect()\n",
    "\n",
    "\n",
    "@app.route('/api/persons/all', methods=['GET'])\n",
    "def get_task():\n",
    "    cursor = cnx.cursor()\n",
    "    query = \"SELECT * FROM user_info\"\n",
    "    cursor.execute(query)\n",
    "    laptops = cursor.fetchall()\n",
    "    res = []\n",
    "\n",
    "    for idx, val in enumerate(laptops):\n",
    "        res.append({\"id\": val[0], \"fname\": val[1], \"lname\": val[2], \"year\": val[3]})\n",
    "\n",
    "    return jsonify(res)\n",
    "\n",
    "\n",
    "@app.route('/')\n",
    "def hello_world():\n",
    "    return 'Persons project'\n",
    "\n",
    "@app.route('/api/person', methods=['POST'])\n",
    "def create_person():\n",
    "    if not request.json or not 'fname' in request.json:\n",
    "        abort(400)\n",
    "    fname = request.json['fname']\n",
    "    lname = request.json['lname']\n",
    "    year = request.json['year']\n",
    "    person = {\n",
    "        'fname': request.json['fname'],\n",
    "        'lname': request.json['lname'],\n",
    "        'year': request.json['year'],\n",
    "    }\n",
    "    cursor = cnx.cursor()\n",
    "    query = \"\"\"INSERT INTO user_info (fname, lname, year) VALUES (%s, %s, %s)\"\"\"\n",
    "    val = (fname, lname, year)\n",
    "    cursor.execute(query, val) \n",
    "    cnx.commit()\n",
    "    cursor.close()\n",
    "    return jsonify(person), 201\n",
    "\n",
    "\n",
    "\n",
    "\n",
    "if __name__ == '__main__':\n",
    "    app.run(debug=True)\n"
   ]
  }
 ],
 "metadata": {
  "kernelspec": {
   "display_name": "Python 3",
   "language": "python",
   "name": "python3"
  },
  "language_info": {
   "codemirror_mode": {
    "name": "ipython",
    "version": 3
   },
   "file_extension": ".py",
   "mimetype": "text/x-python",
   "name": "python",
   "nbconvert_exporter": "python",
   "pygments_lexer": "ipython3",
   "version": "3.7.6"
  }
 },
 "nbformat": 4,
 "nbformat_minor": 4
}
